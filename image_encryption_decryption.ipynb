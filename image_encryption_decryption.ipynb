{
 "cells": [
  {
   "cell_type": "code",
   "execution_count": 1,
   "metadata": {},
   "outputs": [],
   "source": [
    "import numpy as np\n",
    "from tifffile import imsave\n",
    "from NtruEncrypt import *\n",
    "from Polynomial import Zx\n",
    "from num_to_polynomial import *\n",
    "import matplotlib.pyplot as plt \n",
    "%matplotlib inline"
   ]
  },
  {
   "cell_type": "code",
   "execution_count": 2,
   "metadata": {},
   "outputs": [],
   "source": [
    "def scale_array(dat, out_range=(0, 1)):\n",
    "    domain = [np.min(dat, axis=0), np.max(dat, axis=0)]\n",
    "\n",
    "    def interp(x):\n",
    "        return out_range[0] * (1.0 - x) + out_range[1] * x\n",
    "\n",
    "    def uninterp(x):\n",
    "        b = 0\n",
    "        if (domain[1] - domain[0]) != 0:\n",
    "            b = domain[1] - domain[0]\n",
    "        else:\n",
    "            b =  1.0 / domain[1]\n",
    "        return (x - domain[0]) / b\n",
    "\n",
    "    return interp(uninterp(dat))\n"
   ]
  },
  {
   "cell_type": "code",
   "execution_count": 3,
   "metadata": {},
   "outputs": [],
   "source": [
    "def revert_dimension(lst,a,b):\n",
    "    rd = []\n",
    "    for i in range(a):\n",
    "        t = []\n",
    "        for j in range(b):\n",
    "            t.append(lst[j+i*b])\n",
    "        rd.append(t)\n",
    "    return rd\n"
   ]
  },
  {
   "cell_type": "code",
   "execution_count": 4,
   "metadata": {},
   "outputs": [],
   "source": [
    "def flatten_list(lst):\n",
    "    return [val for l in lst for val in l]"
   ]
  },
  {
   "cell_type": "code",
   "execution_count": 5,
   "metadata": {},
   "outputs": [
    {
     "name": "stdout",
     "output_type": "stream",
     "text": [
      "Enter Message: Awnon\n",
      "Curve Parameters\n",
      "Enter A: 9\n",
      "Enter B: 7\n",
      "\n",
      "Public Key = (-18x^14) + (60x^13) + (58x^12) + (47x^11) + (-19x^10) + (46x^9) + (-36x^8) + (13x^7) + (-41x^6) + (-60x^5) + (18x^4) + (-47x^3) + (-58x^2) + (53x) + (-13)\n",
      "\n",
      "Encrypted = \n",
      "[[26, 24, -24, -24, 16, 38, 57, 34, -28, 0, 17, 12, 61, 39, 4], [2, -28, 8, 9, 34, 20, 12, -40, 38, -23, 39, 27, 10, -2, 23], [-27, 59, 4, -35, 26, -9, -26, -19, 30, 38, 14, 11, 48, 56, -52], [-17, 23, 56, -29, -11, 9, -54, 28, 28, -22, 1, 50, -2, -32, -24], [6, -14, 41, -44, 58, -57, -32, 0, -9, 10, -17, 57, -64, -31, -30]]\n"
     ]
    }
   ],
   "source": [
    "d = 5\n",
    "p = 3\n",
    "q = 128\n",
    "\n",
    "message = input(\"Enter Message: \")\n",
    "\n",
    "print('Curve Parameters')\n",
    "elliptic_a = int(input(\"Enter A: \"))\n",
    "elliptic_b = int(input(\"Enter B: \"))\n",
    "\n",
    "character_polynomials,N = koblitz_encoder(message,elliptic_a,elliptic_b) \n",
    "\n",
    "public_key,private_key = generate_keypair(p,q,d,N)\n",
    "\n",
    "print('\\nPublic Key = ',end='')\n",
    "print(public_key.print_polynomial())\n",
    "\n",
    "print('\\nEncrypted = ')\n",
    "cipher_polys = []\n",
    "coefficients = []\n",
    "for element in character_polynomials:\n",
    "    cipher_text = encrypt(element,public_key,d,N,q)\n",
    "    cipher_text.coeffs = list(map(int, cipher_text.coeffs))\n",
    "    cipher_polys.append(cipher_text)\n",
    "    coefficients.append(cipher_text.coeffs)\n",
    "print(coefficients)"
   ]
  },
  {
   "cell_type": "code",
   "execution_count": 6,
   "metadata": {},
   "outputs": [
    {
     "name": "stdout",
     "output_type": "stream",
     "text": [
      "Convert this to image:\n",
      "[[0.72, 0.704, 0.32, 0.32, 0.64, 0.816, 0.968, 0.784, 0.288, 0.512, 0.648, 0.608, 1.0, 0.824, 0.544], [0.528, 0.288, 0.576, 0.584, 0.784, 0.672, 0.608, 0.192, 0.816, 0.328, 0.824, 0.728, 0.592, 0.496, 0.696], [0.296, 0.984, 0.544, 0.232, 0.72, 0.44, 0.304, 0.36, 0.752, 0.816, 0.624, 0.6, 0.896, 0.96, 0.096], [0.376, 0.696, 0.96, 0.28, 0.424, 0.584, 0.08, 0.736, 0.736, 0.336, 0.52, 0.912, 0.496, 0.256, 0.32], [0.56, 0.4, 0.84, 0.16, 0.976, 0.056, 0.256, 0.512, 0.44, 0.592, 0.376, 0.968, 0.0, 0.264, 0.272]]\n",
      "Generating Image...\n"
     ]
    }
   ],
   "source": [
    "x_trans = scale_array(flatten_list(coefficients))\n",
    "\n",
    "print('Convert this to image:')\n",
    "to_img = revert_dimension(x_trans,len(coefficients),N)\n",
    "print(to_img)\n",
    "\n",
    "to_img = np.asarray(to_img)\n",
    "\n",
    "print('Generating Image...')\n",
    "\n",
    "imsave('encrypted_image.tiff', to_img)"
   ]
  },
  {
   "cell_type": "code",
   "execution_count": 7,
   "metadata": {},
   "outputs": [
    {
     "data": {
      "image/png": "[encoded data removed]",
      "text/plain": [
       "<Figure size 432x288 with 1 Axes>"
      ]
     },
     "metadata": {
      "needs_background": "light"
     },
     "output_type": "display_data"
    }
   ],
   "source": [
    "plt.imshow(to_img, cmap='gray')\n",
    "plt.show()"
   ]
  },
  {
   "cell_type": "code",
   "execution_count": 8,
   "metadata": {},
   "outputs": [
    {
     "name": "stdout",
     "output_type": "stream",
     "text": [
      "Data Type: float64\n",
      "Min: 0.000, Max: 1.000\n",
      "[[0.72  0.704 0.32  0.32  0.64  0.816 0.968 0.784 0.288 0.512 0.648 0.608\n",
      "  1.    0.824 0.544]\n",
      " [0.528 0.288 0.576 0.584 0.784 0.672 0.608 0.192 0.816 0.328 0.824 0.728\n",
      "  0.592 0.496 0.696]\n",
      " [0.296 0.984 0.544 0.232 0.72  0.44  0.304 0.36  0.752 0.816 0.624 0.6\n",
      "  0.896 0.96  0.096]\n",
      " [0.376 0.696 0.96  0.28  0.424 0.584 0.08  0.736 0.736 0.336 0.52  0.912\n",
      "  0.496 0.256 0.32 ]\n",
      " [0.56  0.4   0.84  0.16  0.976 0.056 0.256 0.512 0.44  0.592 0.376 0.968\n",
      "  0.    0.264 0.272]]\n"
     ]
    }
   ],
   "source": [
    "import imageio\n",
    "from numpy import asarray\n",
    "from PIL import Image\n",
    "\n",
    "image = imageio.imread('encrypted_image.tiff')\n",
    "\n",
    "pixels = asarray(image)\n",
    "\n",
    "print('Data Type: %s' % pixels.dtype)\n",
    "print('Min: %.3f, Max: %.3f' % (pixels.min(), pixels.max()))\n",
    "# convert from integers to floats\n",
    "pixels = pixels.astype('float64')\n",
    "\n",
    "print(pixels)\n",
    "decoded_coefficients = []\n",
    "for p in pixels:\n",
    "    for j in p:\n",
    "        decoded_coefficients.append(j)\n",
    "\n"
   ]
  },
  {
   "cell_type": "code",
   "execution_count": 9,
   "metadata": {},
   "outputs": [],
   "source": [
    "x_inv = scale_array(decoded_coefficients,(np.min(flatten_list(coefficients), axis=0), np.max(flatten_list(coefficients), axis=0)))\n",
    "x_inv = [round(i) for i in x_inv]\n",
    "x_inv = list(map(int, x_inv))\n",
    "decoded_coefficients = revert_dimension(x_inv,len(coefficients),N)"
   ]
  },
  {
   "cell_type": "code",
   "execution_count": 10,
   "metadata": {},
   "outputs": [
    {
     "name": "stdout",
     "output_type": "stream",
     "text": [
      "[[26, 24, -24, -24, 16, 38, 57, 34, -28, 0, 17, 12, 61, 39, 4], [2, -28, 8, 9, 34, 20, 12, -40, 38, -23, 39, 27, 10, -2, 23], [-27, 59, 4, -35, 26, -9, -26, -19, 30, 38, 14, 11, 48, 56, -52], [-17, 23, 56, -29, -11, 9, -54, 28, 28, -22, 1, 50, -2, -32, -24], [6, -14, 41, -44, 58, -57, -32, 0, -9, 10, -17, 57, -64, -31, -30]]\n"
     ]
    }
   ],
   "source": [
    "print(decoded_coefficients)"
   ]
  },
  {
   "cell_type": "code",
   "execution_count": 11,
   "metadata": {},
   "outputs": [
    {
     "name": "stdout",
     "output_type": "stream",
     "text": [
      "[[26, 24, -24, -24, 16, 38, 57, 34, -28, 0, 17, 12, 61, 39, 4], [2, -28, 8, 9, 34, 20, 12, -40, 38, -23, 39, 27, 10, -2, 23], [-27, 59, 4, -35, 26, -9, -26, -19, 30, 38, 14, 11, 48, 56, -52], [-17, 23, 56, -29, -11, 9, -54, 28, 28, -22, 1, 50, -2, -32, -24], [6, -14, 41, -44, 58, -57, -32, 0, -9, 10, -17, 57, -64, -31, -30]]\n"
     ]
    }
   ],
   "source": [
    "print(coefficients)"
   ]
  },
  {
   "cell_type": "code",
   "execution_count": 12,
   "metadata": {},
   "outputs": [
    {
     "name": "stdout",
     "output_type": "stream",
     "text": [
      "Complete Match!\n"
     ]
    }
   ],
   "source": [
    "if coefficients == decoded_coefficients:\n",
    "    print('Complete Match!')\n",
    "else:\n",
    "    print('Not Equal!')"
   ]
  }
 ],
 "metadata": {
  "kernelspec": {
   "display_name": "Python 3",
   "language": "python",
   "name": "python3"
  },
  "language_info": {
   "codemirror_mode": {
    "name": "ipython",
    "version": 3
   },
   "file_extension": ".py",
   "mimetype": "text/x-python",
   "name": "python",
   "nbconvert_exporter": "python",
   "pygments_lexer": "ipython3",
   "version": "3.7.3"
  }
 },
 "nbformat": 4,
 "nbformat_minor": 4
}
