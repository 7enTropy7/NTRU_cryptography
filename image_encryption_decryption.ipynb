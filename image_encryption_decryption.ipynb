{
 "cells": [
  {
   "cell_type": "code",
   "execution_count": 1,
   "metadata": {},
   "outputs": [],
   "source": [
    "import numpy as np\n",
    "from tifffile import imsave\n",
    "from NtruEncrypt import *\n",
    "from Polynomial import Zx\n",
    "from num_to_polynomial import *\n",
    "import matplotlib.pyplot as plt \n",
    "import imageio\n",
    "from numpy import asarray\n",
    "from PIL import Image\n",
    "%matplotlib inline"
   ]
  },
  {
   "cell_type": "code",
   "execution_count": 2,
   "metadata": {},
   "outputs": [],
   "source": [
    "def scale_array(dat, out_range=(0, 1)):\n",
    "    domain = [np.min(dat, axis=0), np.max(dat, axis=0)]\n",
    "    def interp(x):\n",
    "        return out_range[0] * (1.0 - x) + out_range[1] * x\n",
    "    def uninterp(x):\n",
    "        b = 0\n",
    "        if (domain[1] - domain[0]) != 0:\n",
    "            b = domain[1] - domain[0]\n",
    "        else:\n",
    "            b =  1.0 / domain[1]\n",
    "        return (x - domain[0]) / b\n",
    "    return interp(uninterp(dat))"
   ]
  },
  {
   "cell_type": "code",
   "execution_count": 3,
   "metadata": {},
   "outputs": [],
   "source": [
    "def revert_dimension(lst,a,b):\n",
    "    rd = []\n",
    "    for i in range(a):\n",
    "        t = []\n",
    "        for j in range(b):\n",
    "            t.append(lst[j+i*b])\n",
    "        rd.append(t)\n",
    "    return rd"
   ]
  },
  {
   "cell_type": "code",
   "execution_count": 4,
   "metadata": {},
   "outputs": [],
   "source": [
    "def flatten_list(lst):\n",
    "    return [val for l in lst for val in l]"
   ]
  },
  {
   "cell_type": "code",
   "execution_count": 5,
   "metadata": {},
   "outputs": [
    {
     "name": "stdout",
     "output_type": "stream",
     "text": [
      "Enter Message: Awnon\n",
      "Curve Parameters\n",
      "Enter A: 9\n",
      "Enter B: 7\n",
      "\n",
      "Public Key = (-52x^14) + (38x^13) + (-1x^12) + (-25x^11) + (10x^10) + (8x^9) + (-20x^8) + (39x^7) + (-32x^6) + (34x^5) + (-64x^4) + (-51x^3) + (10x^2) + (52x) + (29)\n",
      "\n",
      "Encrypted = \n",
      "[[62, 2, 14, 44, -16, 36, -35, -57, -62, -29, -47, 33, 6, 48, 25], [-23, 4, -42, 54, -60, 23, -50, 17, 36, -9, 2, 41, 26, 34, -52], [54, -51, -18, 23, -26, 2, -38, 32, 13, -19, 40, -15, 56, -43, -36], [39, -57, 29, 22, -41, 43, 29, 8, -17, 5, -61, 20, 53, 60, -56], [-49, 62, 6, 2, -52, 39, -49, 6, -37, 46, -4, 1, 26, -38, -35]]\n"
     ]
    }
   ],
   "source": [
    "d = 5\n",
    "p = 3\n",
    "q = 128\n",
    "\n",
    "message = input(\"Enter Message: \")\n",
    "\n",
    "print('Curve Parameters')\n",
    "elliptic_a = int(input(\"Enter A: \"))\n",
    "elliptic_b = int(input(\"Enter B: \"))\n",
    "\n",
    "character_polynomials,N = koblitz_encoder(message,elliptic_a,elliptic_b) \n",
    "\n",
    "public_key,private_key = generate_keypair(p,q,d,N)\n",
    "\n",
    "print('\\nPublic Key = ',end='')\n",
    "print(public_key.print_polynomial())\n",
    "\n",
    "print('\\nEncrypted = ')\n",
    "cipher_polys = []\n",
    "coefficients = []\n",
    "for element in character_polynomials:\n",
    "    cipher_text = encrypt(element,public_key,d,N,q)\n",
    "    cipher_text.coeffs = list(map(int, cipher_text.coeffs))\n",
    "    cipher_polys.append(cipher_text)\n",
    "    coefficients.append(cipher_text.coeffs)\n",
    "print(coefficients)"
   ]
  },
  {
   "cell_type": "code",
   "execution_count": 6,
   "metadata": {},
   "outputs": [
    {
     "name": "stdout",
     "output_type": "stream",
     "text": [
      "Convert this to image:\n",
      "\n",
      "[[1.0, 0.5161290322580645, 0.6129032258064516, 0.8548387096774194, 0.3709677419354839, 0.7903225806451613, 0.21774193548387097, 0.04032258064516129, 0.0, 0.2661290322580645, 0.12096774193548387, 0.7661290322580645, 0.5483870967741935, 0.8870967741935484, 0.7016129032258065], [0.31451612903225806, 0.532258064516129, 0.16129032258064516, 0.9354838709677419, 0.016129032258064516, 0.6854838709677419, 0.0967741935483871, 0.6370967741935484, 0.7903225806451613, 0.4274193548387097, 0.5161290322580645, 0.8306451612903226, 0.7096774193548387, 0.7741935483870968, 0.08064516129032258], [0.9354838709677419, 0.08870967741935484, 0.3548387096774194, 0.6854838709677419, 0.2903225806451613, 0.5161290322580645, 0.1935483870967742, 0.7580645161290323, 0.6048387096774194, 0.3467741935483871, 0.8225806451612904, 0.3790322580645161, 0.9516129032258065, 0.1532258064516129, 0.20967741935483872], [0.8145161290322581, 0.04032258064516129, 0.7338709677419355, 0.6774193548387096, 0.1693548387096774, 0.8467741935483871, 0.7338709677419355, 0.5645161290322581, 0.3629032258064516, 0.5403225806451613, 0.008064516129032258, 0.6612903225806451, 0.9274193548387096, 0.9838709677419355, 0.04838709677419355], [0.10483870967741936, 1.0, 0.5483870967741935, 0.5161290322580645, 0.08064516129032258, 0.8145161290322581, 0.10483870967741936, 0.5483870967741935, 0.20161290322580644, 0.8709677419354839, 0.46774193548387094, 0.5080645161290323, 0.7096774193548387, 0.1935483870967742, 0.21774193548387097]]\n",
      "\n",
      "Generating Image...\n"
     ]
    }
   ],
   "source": [
    "x_trans = scale_array(flatten_list(coefficients))\n",
    "\n",
    "print('Convert this to image:\\n')\n",
    "to_img = revert_dimension(x_trans,len(coefficients),N)\n",
    "print(to_img)\n",
    "\n",
    "to_img = np.asarray(to_img)\n",
    "\n",
    "print('\\nGenerating Image...')\n",
    "\n",
    "imsave('encrypted_image.tiff', to_img)"
   ]
  },
  {
   "cell_type": "code",
   "execution_count": 7,
   "metadata": {},
   "outputs": [
    {
     "data": {
      "image/png": "[encoded data removed]",
      "text/plain": [
       "<Figure size 432x288 with 1 Axes>"
      ]
     },
     "metadata": {
      "needs_background": "light"
     },
     "output_type": "display_data"
    }
   ],
   "source": [
    "plt.imshow(to_img, cmap='gray')\n",
    "plt.show()"
   ]
  },
  {
   "cell_type": "code",
   "execution_count": 8,
   "metadata": {},
   "outputs": [
    {
     "name": "stdout",
     "output_type": "stream",
     "text": [
      "Data Type: float64\n",
      "Min: 0.000, Max: 1.000\n",
      "[[1.         0.51612903 0.61290323 0.85483871 0.37096774 0.79032258\n",
      "  0.21774194 0.04032258 0.         0.26612903 0.12096774 0.76612903\n",
      "  0.5483871  0.88709677 0.7016129 ]\n",
      " [0.31451613 0.53225806 0.16129032 0.93548387 0.01612903 0.68548387\n",
      "  0.09677419 0.63709677 0.79032258 0.42741935 0.51612903 0.83064516\n",
      "  0.70967742 0.77419355 0.08064516]\n",
      " [0.93548387 0.08870968 0.35483871 0.68548387 0.29032258 0.51612903\n",
      "  0.19354839 0.75806452 0.60483871 0.34677419 0.82258065 0.37903226\n",
      "  0.9516129  0.15322581 0.20967742]\n",
      " [0.81451613 0.04032258 0.73387097 0.67741935 0.16935484 0.84677419\n",
      "  0.73387097 0.56451613 0.36290323 0.54032258 0.00806452 0.66129032\n",
      "  0.92741935 0.98387097 0.0483871 ]\n",
      " [0.10483871 1.         0.5483871  0.51612903 0.08064516 0.81451613\n",
      "  0.10483871 0.5483871  0.2016129  0.87096774 0.46774194 0.50806452\n",
      "  0.70967742 0.19354839 0.21774194]]\n"
     ]
    }
   ],
   "source": [
    "image = imageio.imread('encrypted_image.tiff')\n",
    "\n",
    "pixels = asarray(image)\n",
    "\n",
    "print('Data Type: %s' % pixels.dtype)\n",
    "print('Min: %.3f, Max: %.3f' % (pixels.min(), pixels.max()))\n",
    "# convert from integers to floats\n",
    "pixels = pixels.astype('float64')\n",
    "\n",
    "print(pixels)\n",
    "decoded_coefficients = []\n",
    "for p in pixels:\n",
    "    for j in p:\n",
    "        decoded_coefficients.append(j)\n",
    "\n"
   ]
  },
  {
   "cell_type": "code",
   "execution_count": 9,
   "metadata": {},
   "outputs": [],
   "source": [
    "x_inv = scale_array(decoded_coefficients,(np.min(flatten_list(coefficients), axis=0), np.max(flatten_list(coefficients), axis=0)))\n",
    "x_inv = [round(i) for i in x_inv]\n",
    "x_inv = list(map(int, x_inv))\n",
    "decoded_coefficients = revert_dimension(x_inv,len(coefficients),N)"
   ]
  },
  {
   "cell_type": "code",
   "execution_count": 10,
   "metadata": {},
   "outputs": [
    {
     "name": "stdout",
     "output_type": "stream",
     "text": [
      "[[62, 2, 14, 44, -16, 36, -35, -57, -62, -29, -47, 33, 6, 48, 25], [-23, 4, -42, 54, -60, 23, -50, 17, 36, -9, 2, 41, 26, 34, -52], [54, -51, -18, 23, -26, 2, -38, 32, 13, -19, 40, -15, 56, -43, -36], [39, -57, 29, 22, -41, 43, 29, 8, -17, 5, -61, 20, 53, 60, -56], [-49, 62, 6, 2, -52, 39, -49, 6, -37, 46, -4, 1, 26, -38, -35]]\n"
     ]
    }
   ],
   "source": [
    "print(decoded_coefficients)"
   ]
  },
  {
   "cell_type": "code",
   "execution_count": 11,
   "metadata": {},
   "outputs": [
    {
     "name": "stdout",
     "output_type": "stream",
     "text": [
      "[[62, 2, 14, 44, -16, 36, -35, -57, -62, -29, -47, 33, 6, 48, 25], [-23, 4, -42, 54, -60, 23, -50, 17, 36, -9, 2, 41, 26, 34, -52], [54, -51, -18, 23, -26, 2, -38, 32, 13, -19, 40, -15, 56, -43, -36], [39, -57, 29, 22, -41, 43, 29, 8, -17, 5, -61, 20, 53, 60, -56], [-49, 62, 6, 2, -52, 39, -49, 6, -37, 46, -4, 1, 26, -38, -35]]\n"
     ]
    }
   ],
   "source": [
    "print(coefficients)"
   ]
  },
  {
   "cell_type": "code",
   "execution_count": 12,
   "metadata": {},
   "outputs": [
    {
     "name": "stdout",
     "output_type": "stream",
     "text": [
      "Complete Match!\n"
     ]
    }
   ],
   "source": [
    "if coefficients == decoded_coefficients:\n",
    "    print('Complete Match!')\n",
    "else:\n",
    "    print('Not Equal!')"
   ]
  }
 ],
 "metadata": {
  "kernelspec": {
   "display_name": "Python 3",
   "language": "python",
   "name": "python3"
  },
  "language_info": {
   "codemirror_mode": {
    "name": "ipython",
    "version": 3
   },
   "file_extension": ".py",
   "mimetype": "text/x-python",
   "name": "python",
   "nbconvert_exporter": "python",
   "pygments_lexer": "ipython3",
   "version": "3.7.3"
  }
 },
 "nbformat": 4,
 "nbformat_minor": 4
}
