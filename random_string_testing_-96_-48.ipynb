{
 "cells": [
  {
   "cell_type": "code",
   "execution_count": 1,
   "metadata": {},
   "outputs": [],
   "source": [
    "import time\n",
    "from NtruEncrypt import *\n",
    "from Polynomial import Zx\n",
    "from num_to_polynomial import *"
   ]
  },
  {
   "cell_type": "code",
   "execution_count": 2,
   "metadata": {},
   "outputs": [],
   "source": [
    "def encrypt_decrypt(message,elliptic_a,elliptic_b,d,p,q):\n",
    "    character_polynomials,N = koblitz_encoder(message,elliptic_a,elliptic_b) \n",
    "    public_key,private_key = generate_keypair(p,q,d,N)\n",
    "    cipher_polys = []\n",
    "    for element in character_polynomials:\n",
    "        cipher_text = encrypt(element,public_key,d,N,q)\n",
    "        cipher_polys.append(cipher_text)\n",
    "    dec_w = []\n",
    "    for element in cipher_polys:\n",
    "        decrypted_message = decrypt(element,private_key,p,q,N)\n",
    "        dec_w.append(decrypted_message.coeffs)\n",
    "    decrypted_plain_text = koblitz_decoder(points_decoder(dec_w))\n",
    "    if decrypted_plain_text == message:\n",
    "        return True\n",
    "    else:\n",
    "        return False"
   ]
  },
  {
   "cell_type": "code",
   "execution_count": 4,
   "metadata": {},
   "outputs": [
    {
     "name": "stdout",
     "output_type": "stream",
     "text": [
      "['i7wFr3S^A)?%LpUQD(TY', 'jDx(*k?t lnz5PfdRp8E', '5MBt73X9luA?IREpr#gJ', 'qUfIKZ43D$6atXSyCBp!', '9w68dk eFZ$LqcjGUJft', '^R0e#ht)uCgEZIvD3rw(', 'PO)7@RKia3rMI1G2w?$X', 'Y3pqmgKZvxGRa!fEAdh2', '4ZI2Sv^lgKk9!DUo8@Hc', '^H?byC0D#WuwTLS 2Z&t', 'xX$2uhE0B%ZgC8N6QKbD', 'Ou6I5)V@reavlby2xfmQ', 'nZaAL#6tx?FwfDSC4GRc', 'sJlRiIe!nEXD(^1ZCSWY', 'V!z%NTCbtiMP5ve*ygpm', 'vhrV0)ik#lct?3E(X$zp', '5!(mSVso)ND g34fIq9#', 'rpIb8MEn ^H6Nawz?qQy', 'y93iH$v)?@(ezPfm*wt ', 'o!f^ePq5Fy?g1hOkVWIv', 'WuHlFJq5oMdZRvYz4x09', '*bLHh@qdwY% xVZuPI&T', 'xNyL Y$#UbihQTf6u3*Z', 'VL0pot5?CcI1PWF9lhyN', 'h6rmn%(otQd9^2pfJb?s', '0QH1K&?qg)I8@5coEmND', '$BlF%CS?JN#HdIwKyDQ7', 'EkeVf?pDbsFxn%HG3I@0', '0PVmWw%fMKSjL9kvxC7q', 'iRc! n4qyYMdPS8fjUm*', 'nP^&ms$xH)JLVa Q*uh@', '3Ik*yWXSjKf74r6Pqd@O', 'mj2BusArnP?(YSbDITp^', 'QOxA)SpRN5w@eMzsJ!LK', 'ntrJX6NhsBHKw(Qea8$f', 'stv )k6D8rbOwVfpQSJY', '^7uO5WoNV GbHA&nT8tU', 'Y AbBuJq&#U7hD3y?^EM', 'b7nyDzNZfF5js4CLv$80', 'zQwc5VI@9ES#aR(LZ0s%', 'FITDB%kGMjRO!hA1J@re', '!LF9f?U*XKTv6Ih^wE2(', 'BAk )l6Ipt5Q%Dd!xs@E', 'ATJG ?iu1sgqK4PbE^0@', 'gGRIS6mYab!zT?F(Bh&Q', ')J%sxbDcm(nyw861EfYz', 'gMXp2TQn)Lx08k?b$F&i', ' mhbe&d!43Duy9lKZMV%', 'fS&$kabo27O1swIG6Fim', 'YSm5G&%MAuol2gQN0b4c', 'gmQCW$I6yG3clraSe&EL', '5S1jUynTL(z643N8buPc', '%@B7S92rjzRTQ6nIXq)W', 'SFr(1wWg%y$UYmcT 4n#', ')GyQ3SAlL$x2szh4kgCW', 'm5$rc4IvEq1sT)k?obV3', '2%7Vb&dT?h915j*CsKZR', 'A)n3tMlHB4FD?CQLkj9(', 'VThjG%UDRFNHvxny3QeX', 'XU4vHbuJ1Od7RKAx)3C5', 'LmwC4eKRv?!Oax0EIiXW', 'kLgZGrpjD3Ru49wl)8I&', 'v?b@gZ!7PkindYfH9BF0', 'Gi6@FezonWwULP4kv?b0', '&kWah!RQmUFup9 2T#n)', 'Xw L^HT(m80GuYkvaenC', 'jP YT5yShAUcf?lZ)Gw!', 'G4^6&nBN!@veZ(FpbXox', 'E%U7ram(vwf&1edSi?IM', '2XaiQ nE7p9u(1hj#B!I', 'ru2SxqDlp$j8Yy(9)*7@', ')7z*P!A@c^8Q1RiDYZVt', 'ctb18NgSs4w96 UyZuYk', 'i1aT!kC@QoYRm%EZp#u^', '$ ?pZP(#L5zvM67ekxi9', '7GJ?eVBM5o2Xh3AIpLaR', 'uq3de VHv*O%abKGLZjt', 'NGWlvnRgZHB6kDxiS?L0', 'M9src4vO?HZ6)iXI0tlG', 'u&qN#9 mW3TPQz@L7XSf', 'AU1o#WE7hv96pJydRDXs', 'I&@z5OtT1gm8X9)hG0pH', ')Ax#c(ZL qerunBIVwmj', 'xTneScUvmki@fOhyH)$ ', '65fdiG^1nNro#pHzyhk0', 'v7Alg3)0E1^dS24a9Oey', 'LKbD)g^0o#qEr(d!m5JG', '&hKO$#t0?fg4VBWT5rYE', 'FM%NW)5?H$Y2yeGCanl#', 'hl&5b?y!2Y#kF$g4nIAQ', 'k?08gyBz*cqR^)LlFTHm', '5zi8!C$Q31ZR%hdIH2r4', 'Zbokmtq4BwfYMh#C0jdr', 'xRqP^(WZpcjI$yvkE)lw', 't5vo(XFr*f^q&7EiD)cg', 'm3YZp&Pj6dCMF(sSK$wx', '#B0wV6T(guaMc8mU^O$e', '7#wr4OtiGx1mHF3sTSC?', '0XiS7u$N^pJAHP gerEb', '#no&lTxU5gqsPJdp(tW3']\n"
     ]
    }
   ],
   "source": [
    "message = '!@#$%^&*()? qwertyuiopasdfghjklzxcvbnmQWERTYUIOPASDFGHJKLZXCVBNM1234567890'\n",
    "\n",
    "import random\n",
    "epochs = 100\n",
    "msg = []\n",
    "for i in range(epochs):\n",
    "    temp = ''.join(random.sample(message,len(message)))\n",
    "    msg.append(temp[0:20])\n",
    "print(msg)"
   ]
  },
  {
   "cell_type": "code",
   "execution_count": 5,
   "metadata": {},
   "outputs": [
    {
     "name": "stdout",
     "output_type": "stream",
     "text": [
      "0-----------------2.812696933746338\n",
      "1-----------------3.81496524810791\n",
      "2-----------------2.7195394039154053\n",
      "3-----------------3.748603582382202\n",
      "4-----------------4.420252323150635\n",
      "5-----------------3.5330958366394043\n",
      "6-----------------3.1898891925811768\n",
      "7-----------------3.9188764095306396\n",
      "8-----------------3.595594644546509\n",
      "9-----------------4.037190198898315\n",
      "10-----------------3.44062876701355\n",
      "11-----------------4.237056732177734\n",
      "12-----------------3.611840009689331\n",
      "13-----------------3.653456449508667\n",
      "14-----------------4.180788040161133\n",
      "15-----------------2.7681238651275635\n",
      "16-----------------3.4731640815734863\n",
      "17-----------------3.015596866607666\n",
      "18-----------------3.9329071044921875\n",
      "19-----------------4.235823154449463\n",
      "20-----------------4.503242015838623\n",
      "21-----------------3.922360420227051\n",
      "22-----------------3.7800238132476807\n",
      "23-----------------3.796098232269287\n",
      "24-----------------3.3367087841033936\n",
      "25-----------------3.299577236175537\n",
      "26-----------------3.2104527950286865\n",
      "27-----------------3.532203197479248\n",
      "28-----------------4.9337403774261475\n",
      "29-----------------4.07526159286499\n",
      "30-----------------2.8639981746673584\n",
      "31-----------------4.16603946685791\n",
      "32-----------------3.5286917686462402\n",
      "33-----------------3.805858850479126\n",
      "34-----------------3.5447585582733154\n",
      "35-----------------3.7443599700927734\n",
      "36-----------------3.8278162479400635\n",
      "37-----------------3.118762254714966\n",
      "38-----------------4.569450616836548\n",
      "39-----------------2.751474380493164\n",
      "40-----------------3.0138020515441895\n",
      "41-----------------3.077171564102173\n",
      "42-----------------3.1375787258148193\n",
      "43-----------------4.054632902145386\n",
      "44-----------------2.2566516399383545\n",
      "45-----------------3.6086244583129883\n",
      "46-----------------3.336810350418091\n",
      "47-----------------3.4850075244903564\n",
      "48-----------------3.4903340339660645\n",
      "49-----------------3.77117919921875\n",
      "50-----------------3.2471816539764404\n",
      "51-----------------3.7139387130737305\n",
      "52-----------------2.858109474182129\n",
      "53-----------------2.675138235092163\n",
      "54-----------------3.753700017929077\n",
      "55-----------------3.2950329780578613\n",
      "56-----------------2.9556777477264404\n",
      "57-----------------3.2315404415130615\n",
      "58-----------------4.132648229598999\n",
      "59-----------------3.701181650161743\n",
      "60-----------------4.298210144042969\n",
      "61-----------------3.5079495906829834\n",
      "62-----------------3.5995256900787354\n",
      "63-----------------4.363525152206421\n",
      "64-----------------2.0032827854156494\n",
      "65-----------------3.7895376682281494\n",
      "66-----------------3.9768495559692383\n",
      "67-----------------4.001309156417847\n",
      "68-----------------3.5650031566619873\n",
      "69-----------------2.4340672492980957\n",
      "70-----------------3.9755563735961914\n",
      "71-----------------2.9789865016937256\n",
      "72-----------------3.7834978103637695\n",
      "73-----------------2.6367180347442627\n",
      "74-----------------3.797151565551758\n",
      "75-----------------3.1887168884277344\n",
      "76-----------------4.5306665897369385\n",
      "77-----------------4.199556350708008\n",
      "78-----------------3.9554049968719482\n",
      "79-----------------3.837357997894287\n",
      "80-----------------3.5065414905548096\n",
      "81-----------------2.8191661834716797\n",
      "82-----------------3.9169347286224365\n",
      "83-----------------3.920276641845703\n",
      "84-----------------3.165131092071533\n",
      "85-----------------3.285390615463257\n",
      "86-----------------3.651397466659546\n",
      "87-----------------2.873408555984497\n",
      "88-----------------3.4385831356048584\n",
      "89-----------------2.6882550716400146\n",
      "90-----------------2.8464620113372803\n",
      "91-----------------2.491896390914917\n",
      "92-----------------4.49318265914917\n",
      "93-----------------4.707621097564697\n",
      "94-----------------3.9136664867401123\n",
      "95-----------------4.059431791305542\n",
      "96-----------------2.939542770385742\n",
      "97-----------------3.589843988418579\n",
      "98-----------------3.3670358657836914\n",
      "99-----------------4.751304626464844\n"
     ]
    }
   ],
   "source": [
    "import time\n",
    "d = 5\n",
    "p = 3\n",
    "q = 128\n",
    "elliptic_A = -96\n",
    "elliptic_B = -48\n",
    "time_taken = []\n",
    "results = []\n",
    "count = 0\n",
    "for m in msg:\n",
    "    t1 = time.time()\n",
    "    results.append(encrypt_decrypt(m,elliptic_A,elliptic_B,d,p,q))\n",
    "    t2 = time.time()\n",
    "    print(str(count) + '-----------------' + str(t2-t1))\n",
    "    time_taken.append(t2-t1)\n",
    "    count += 1"
   ]
  },
  {
   "cell_type": "code",
   "execution_count": 6,
   "metadata": {},
   "outputs": [
    {
     "name": "stdout",
     "output_type": "stream",
     "text": [
      "[True, True, True, True, True, True, True, True, True, True, True, True, True, True, True, True, True, True, True, True, True, True, True, True, True, True, True, True, True, True, True, True, True, True, True, True, True, True, True, True, True, True, True, True, True, True, True, True, True, True, True, True, True, True, True, True, True, True, True, True, True, True, True, True, True, True, True, True, True, True, True, True, True, True, True, True, True, True, True, True, True, True, True, True, True, True, True, True, True, True, True, True, True, True, True, True, True, True, True, True]\n"
     ]
    }
   ],
   "source": [
    "print(results)"
   ]
  },
  {
   "cell_type": "code",
   "execution_count": null,
   "metadata": {},
   "outputs": [],
   "source": []
  }
 ],
 "metadata": {
  "kernelspec": {
   "display_name": "Python 3.7.3 64-bit",
   "language": "python",
   "name": "python37364bitcdaf122ac8dd42cbae2e0f9656f523a6"
  },
  "language_info": {
   "codemirror_mode": {
    "name": "ipython",
    "version": 3
   },
   "file_extension": ".py",
   "mimetype": "text/x-python",
   "name": "python",
   "nbconvert_exporter": "python",
   "pygments_lexer": "ipython3",
   "version": "3.7.3"
  }
 },
 "nbformat": 4,
 "nbformat_minor": 4
}
