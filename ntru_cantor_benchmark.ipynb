{
 "cells": [
  {
   "cell_type": "code",
   "execution_count": 1,
   "metadata": {},
   "outputs": [],
   "source": [
    "import random\n",
    "import string\n",
    "import time\n",
    "from NtruEncrypt import *\n",
    "from Polynomial import Zx\n",
    "from num_to_polynomial import *\n"
   ]
  },
  {
   "cell_type": "code",
   "execution_count": 2,
   "metadata": {},
   "outputs": [],
   "source": [
    "def generate_string(l):\n",
    "    m = ''.join([random.choice(string.ascii_letters + string.digits) for n in range(l)])\n",
    "    return m"
   ]
  },
  {
   "cell_type": "code",
   "execution_count": 3,
   "metadata": {},
   "outputs": [
    {
     "name": "stdout",
     "output_type": "stream",
     "text": [
      "['siEmqTAlrS3oxzHuLWHxSPB5yqw4W2icB5WSoL8gX4XrSlBVFdHYAsV2XwJIl1HV8mAfrhwpE7MheIWkZGnauXVqWJwApB1HPt45', '8uyomls3Dt7Npe5UsPXTou4sAo8N51bjoLyxOvuSd9x0bUZP74aIE60bQRb79PqyL2kEcfuPyJDDwKRBoeJFmR9I0Z9SJZ7q9FErFWXyNrIdaCkLqEH1LmqkDx5HF7as7ZQHHZAuJUBW36dRPYWLDiYXDx07Uzkfjv46IcnmigIBFl1OhYHTJPYRY07pXGrmvrsoZTbq', 'Tvzl8vxiCbPTJIPEYw38Sguq1LQ8B3tV5W2wJ0jCIl3PNXmnl3sjSy0zEPBhrYLSz9gvhTmSJc6HnqoWzpCoBhcqv7DRvVZNu8WfZi4N5f9VQbs209Nfy4MaJb0AeYFrKYLJj7LWzoL8urwa6nJskIy7V4wIZ7b82BLxXUD924oquEvpuSSqlfF8oNNdLuygpvWzTWPTkHHj2hYaMZmmjUdpYvAWaGDcpqk6xxfm5Iz56UK2cPGpj9UyUK1rnzpWa5WmMlkjdFVDojtiYztvN7GNIdpvh3Ow77x8r4PGoVhE', 'RUYx04ysHYbx7YCcO37rMutEw17ngGMUKZr4j7mBfWWS4hlVMkRKYxFrP7XzyCtBiAu6gE3dDlRSG5dKXUtzEAHGbMW0BX27sjyq7tns5WQ6rLFUJB2aI22LzfsJ3N6Cq2suK9DciglzRX3QYvNwBSZUTIsioN1MEOKt8oDBYH0wpRljKAS283LSa2n6QcVq9CiEME2eMtZDeyQuPcqgehfpsR0OjXHvRcHfaXenoR1WQlZtA98ASokitGLZUcWyrAL6GoC1WwzJZzdRUrTAm5beJVUYAEm4o9Oiwbfd6GVkSN3fuFwsBIz6kzg4nkkFC73EEJWeB8rpHLxlFZZSxpJ4QBEN5KPQ1pbtvqLdNM5wQAfS0dBfqEuXWnI4vbQpRlo2OSsu2AsA6m6f', 'BlEL6UIgMOZ489O2SFpS0iVbZ546Ld71HGpHcimPuJiepqL8p5SPZdPQ1Dq3KMfCh5kMl2mS2oaFs93mOW1AF4hcYnChDrZzskZgbjke9VV4B0aHDVvXZWnehQE7udgvCtO7g2Mdnta1NiV8lxSuryuO2mzn5Y8jOJLn49WiPdZhGCwUxwDg4pO6uhNSpyxt0KhqAzzzHtTw9hnDEHqHgd59wTAq9sarmtS36xoTTzbpi3WTw4PoCZkHv1u1pmLAFjYIZUJTmdPOJy9LC3iLbNAktJ71cp246tvcglCMS6IyNw3Nl2O4oQQTSGV5REZ4CcCV9rJzmb03E8cdsTmZnkfJS1nF9REjbRriUe1ZOGK9FyDYlKbsmQmi6jTZx1PXMabAdvHFx4A75aMnKl3Kadt460iIGTBIhS5QjOHpIUAc7OZ1K2QQOex6OYX4FEc3C2RoRo7tCSoj8bu2oOXWJvMr5dMHD8zqnPan2Jy8zJQfQFdNGS7W', 'XGv2f3VrO6foWvwT8CIdSM1oCWKcVjTchlw2CONjdkUX5VCh7dm65HfTQj3IRtuJYhxE2h8Je8QxlUalkiHOXmU6EFtptXEd7wUjZkG9HziW6zAjh2VwV6PVrIMxVLvzOe9jhu7r6GipSp7BuQSgCj3ZM3Qcxaw50HNwlZBJaCcGfEBIFaJIBDL0Zk3zyoBijpERjIJj3HRmeZJlKymEnpXNKaUCm8yA3AORyPPOIL9DvKvIFff6vZH88TDzfzxshQpyvSeGetZwvtQ3fSbHeRggqXbP1lqrsZab7ugvub6XYslvXRRWwqUa4V26V0lB0hggCMuMqaWHniCoH0EbAqTie3hApZ718Th1GJahfyo8bRmYrA4fxOjen5H3PU3BXHpBXwGQddRhNHKCOY9UTovH9C0rZtIROF6cFZ4sccbkFIlFL5ApSjzH2VRxMLCfFxZ1eWvZyorU3E24D8JlJv28xh3AEsjVwSz6XI0R60a0JRVXVtMVOeeZ3QjXnBnZwOTsEZYyElMCOpwkIPVwRtYgYGdWxN6MCt0jwZz9tWW9VQEbaeD4G2z8GY22zNr5S1iFMsSByrvLHpYECZtX9IRD', 'dYh6rfzoAR7jrZU1Od7qdkMoOkoolbWnXo94ZpxWj1JWgcbd8TfSXXMVYiCmEKiHkiUkrnGdZ3a4rTL8QCKVQ3PGjMClhaaG5uhQcCvOkzkrZnSFtilVsXCIfntSXzDmQGxGxHGlBNngGpKDvK4NsAr7zC0npdBPAQm3DxUCuJz3MuEcc8yDIiz9lMZI3o0skFF0CeIa37rU0WNsRJ8LLclQMY3yQ4NoDhcA255t8Q0iqZCQCtcr3ffdQcS5ft2LyMcHFzX27kpnsIiCfcTK6ysEBNDF2fqePHIwfoF59mTMN9NgCpeLzFT4HYkP7ork42OEnBIWQXXnOng2jPlwj7cgZTHCZLPEbJsidpuJFySwQDwqE9bgnrKalkHHKFwzHUMGINnUkV43adXRpNRQIvx9reGvSBAVYK00eZDxJnXXjOIN9oLBo0kWuxdpp0kmUnONH0fYYgZMiTiyc0tJxDEXgWaz0YSM8icMNg6qboq4taL71bjkXC38fZDuLZANpw5xO5xRoXAd8n1fSBpi06ojJ0WzF4Qcdf7T4Q6LPKNolCmPB1ilEgUxuMQvoh8iIhotN5jCjBnPclX0jzZTvkBcDPPYpiM1kqyR5RBCdoCdjV9bxtrIzU0pux3fbgrIZR8xGDotugnXFoWdvRjCU9eqZG6rs4zaGGxmFGJ7RK94h4Om8yTr7DKYtDEu', '1ZY6zHiKOa2RI8NcF5B7uKKUs1AfQlWYTS5yY6k92hqrcoOZOKKNiLqHzYNKkGfwsHE9IrBFvIaO27WTOz6ryRcT4UFGjTcfcGR6JjLujmENMWkGYowvIVfxZwkYpNN8DJp80MHr6tf77nbvIaBzk9a6KXKkxII9ET70LdidzdYNRufkoNUo4cy03CgUPN5WJzGf7g4wKiGtYd02qU2rsR361M29b290S3VsfsX6Q1tgoGc4WyUqTg4dY6A1XTDNsPsvCzccIjAKTLofXnzGWGND9gLZW2H9K29WlFDkaN2fK5gdWRIPED0U9XcXsjcM8OLjQL7zhAAWgZshf5oiUV4ZO4TMDRisN7Xmh9wCAgjQPTG13NAT3K2aBh0sdPExiLzVx9AgKmLVPi2hRJCXlYjSJhctsp49wJbaBipJpt9CJYeA383aPJ4ZFJcUzgur8m3DT8CJqEQv61d7wSH9ER6pspBKbydSOL9AEaUqRg7945yrlIcinJVr0KzGgkb93P7ThOUh1JLYF1Zvd0aawk08uFjfUnwdeXJio3CXulMJHIVkXmPD3awjGcGEhxY3p0vu7IhBIhFbvIrMw35Q015D55PlbG85sxx1BJSo8LS3lX7D1sEsJO3n51ZfdnFnHG1WCgLA7EASgxVAz29ejeAjExy1fYLT2qWiCzyxKnhXb9GUXfj0Y1KvNtiCGppbDy8kpxgFdt4iyjBVx1dbCcwhvI3lgVhkKJvifaz6gDP1IQpnsYprmPGHuI71wjam3A5b3N9obMy1HJBhj55lUL6ScXIAURHs', '4zqObFxvHdkRAQhAoH5t82K1fqPdrz5WxVa8FpWF5kUHLELTFTGbBLda9hXhsreRyvcGqgrtp7MnJRWKkkafW8osXZdz1FORUr7b2TR00dcAy0Vzp4CSW1kFAcDh3mzH5zpJEYzpTSPpwg8DUQpXypZHEJyhGPu6qRiZe2eNeT2tpHdhdONL6HLy3jaLHviFXFhFPOxrVVnuIuDTz1dAFt0jJWSRMx8yL4bUl5gaN9UdHDvDtvosU7yRDKlnptHgMaBo44plIpmoxcGaWN5OD3n1vK6qvSmknuJlxlGTzDXsG6TRj5umsLmXcLsTOStArx9QxNqKpfq7M0dwfIJAnJDL0kTmAjwI6HiKG3jXXL3vY0QETGONEdvx0tOmfi4Zt4ANqoVEdx75CXLqpmF336nnoRgZMiyQ3AhM8u88VM5YkXwAhlk2XOI9MoUe827fdscX0WO4GQpUlaLDf7zgt1NyvKWxnUd5j8LFWw56tpRZwHvFWNqYBN1R22vdrwOIlZkYMKd3Y28VJu0sznyJIKkibJ1xQf662xVPPSYpONuHm5a8wbJlwQIVZ5ASU0vYLpBHmIlFaRwq5MGZDqBbPSmY3q0kgl7IJ9rEp0hGDerNJq3qCNb6oJi13Q98gosEqO5mBOAIxdPeGnHVzzbRaBUnap16gNczItMHbKPeIe8SwLIYIjrpTA88Kv8f7ImSoYYBZUCBnWCE20cL2yLNrxb5rkZRWD9FENEr4JKkxYxgZDM8vL2Ml4a1OXDb3OtUmuY42Jbj0emnAJSkGfIc9t2EykrbBYnADfudt4YrPf8bISyP5LSmxVE0sLr3a0wXli9ao467zdlVMhObreEXMsR9pbDheNbN5psp8776sqPq5rU5Lynh5F9XNq5nQUQt8595', 'ud8lQkmcEAym3X6Jq3KTJw0wF6dDyTEXvSVF4Rn9Eg0WAULQk453Fc5NV0ac0ltMJauzb3dTi5b3XZsqKOJbjoWoiFyR2bLbnOhUrgetEbcHyBqauYU4PQzNrIfJq4hnYB2VRc43ddIU0o69Je6wnj13SdeUhtlJohDHIsH7tZ0FGMA26EjRdYZXSehua0Yszm2fXwSl4x2wsFKUNVaHL0xkb3qOHJKibSizBsCd1VMC1pml6X4KLi0as40SgzWbd0mlGysRaSf8QdR5emAyynlEWruswx2dprezaHD1Zi0LDWWtsq8rl54kgti4eTMWompLjcqlB3IlEu3d1002VIIN5FKDP4qxTLzz5Vwhli2U4SiT3xA0QdCNULD3sSy16K0n6yl15kfE6hfiQf4ODVphAEOxY1ECnkWhzHVzwcR1l8nzDr0tKgbZTsIJVj5069WyOAG3tJWMthw2JY9T3pUdk1cx5jjiNkJcnaESNGFKSlhoqgXl86AkSqCT3ESk29cfh0HYQ998Svfb0B9FcDF8FEBV3hod5XG5E429cBj5aFzqTKz8z6XVN79Gt0KSczKYGPP5pUtYCMJP9JPu5UfyWQwnPkmlqaqawDgWgPqtkAALTevNvTLS1feCxpgYynQVldrNS6bdaImkntid1D3irFZNyVdKLrduSo2aItF9TJdl5JmwywvGbtFoQjRWdnlL9QoGhR2WBv0wRS2H71bWcydUmKKyFkKViWw8YmLz71vWs2LZ4YZEs7Wtlo7E2a4GlbYwXA0PpNUO11m2lUHM4vqx7GVWPjUVUsoYPZoFQWG6Kc3cchtoMD8fcYzUNZSstGmRbifF7BCkpIOZC9RpJOcI3R0RZ5fW37lCUnMnMZVI3H8eG0soV32rxC9gLhpIDYsS1MM8mq9C9240k4T0FD6z71SqL5GSf83BO8StvzM2MFP39Tyaq0oYnxxXUHJgVtLxRTjKGLxhpIcCx8baTM9E67mZcaIhLR5K']\n"
     ]
    }
   ],
   "source": [
    "message = []\n",
    "for i in range(1,11):\n",
    "    message.append(generate_string(i*100))\n",
    "print(message)"
   ]
  },
  {
   "cell_type": "code",
   "execution_count": 4,
   "metadata": {},
   "outputs": [],
   "source": [
    "def encrypt_decrypt(message,elliptic_a,elliptic_b,d,p,q):\n",
    "    character_polynomials,N = koblitz_encoder(message,elliptic_a,elliptic_b) \n",
    "    public_key,private_key = generate_keypair(p,q,d,N)\n",
    "    cipher_polys = []\n",
    "    for element in character_polynomials:\n",
    "        cipher_text = encrypt(element,public_key,d,N,q)\n",
    "        cipher_polys.append(cipher_text)\n",
    "    dec_w = []\n",
    "    for element in cipher_polys:\n",
    "        decrypted_message = decrypt(element,private_key,p,q,N)\n",
    "        dec_w.append(decrypted_message.coeffs)\n",
    "    decrypted_plain_text = koblitz_decoder(points_decoder(dec_w))\n",
    "    if decrypted_plain_text == message:\n",
    "        return True\n",
    "    else:\n",
    "        return False"
   ]
  },
  {
   "cell_type": "code",
   "execution_count": 5,
   "metadata": {},
   "outputs": [
    {
     "name": "stdout",
     "output_type": "stream",
     "text": [
      "0.3132212162017822\n",
      "0.4601268768310547\n",
      "0.744093656539917\n",
      "0.7337934970855713\n",
      "1.1180391311645508\n",
      "1.2552769184112549\n",
      "1.4147422313690186\n",
      "1.7700581550598145\n",
      "1.9001352787017822\n",
      "2.1019256114959717\n"
     ]
    }
   ],
   "source": [
    "d = 5\n",
    "p = 3\n",
    "q = 128\n",
    "time_taken = []\n",
    "for msg in message:\n",
    "    t1 = time.time()\n",
    "    result = encrypt_decrypt(msg,9,7,d,p,q)\n",
    "    t2 = time.time()\n",
    "    print(t2-t1)\n",
    "    time_taken.append(t2-t1)\n"
   ]
  },
  {
   "cell_type": "code",
   "execution_count": 6,
   "metadata": {},
   "outputs": [
    {
     "name": "stdout",
     "output_type": "stream",
     "text": [
      "[100, 200, 300, 400, 500, 600, 700, 800, 900, 1000]\n"
     ]
    }
   ],
   "source": [
    "message_length = []\n",
    "for i in range(1,11):\n",
    "    message_length.append(i*100)\n",
    "print(message_length)"
   ]
  },
  {
   "cell_type": "code",
   "execution_count": 7,
   "metadata": {},
   "outputs": [
    {
     "data": {
      "text/plain": [
       "[<matplotlib.lines.Line2D at 0x7f316c49fa00>]"
      ]
     },
     "execution_count": 7,
     "metadata": {},
     "output_type": "execute_result"
    },
    {
     "data": {
      "image/png": "[encoded data removed]",
      "text/plain": [
       "<Figure size 432x288 with 1 Axes>"
      ]
     },
     "metadata": {
      "needs_background": "light"
     },
     "output_type": "display_data"
    }
   ],
   "source": [
    "import matplotlib.pyplot as plt\n",
    "%matplotlib inline\n",
    "plt.figure()\n",
    "plt.plot(message_length, time_taken)"
   ]
  },
  {
   "cell_type": "code",
   "execution_count": null,
   "metadata": {},
   "outputs": [],
   "source": []
  },
  {
   "cell_type": "code",
   "execution_count": null,
   "metadata": {},
   "outputs": [],
   "source": []
  }
 ],
 "metadata": {
  "kernelspec": {
   "display_name": "Python 3",
   "language": "python",
   "name": "python3"
  },
  "language_info": {
   "codemirror_mode": {
    "name": "ipython",
    "version": 3
   },
   "file_extension": ".py",
   "mimetype": "text/x-python",
   "name": "python",
   "nbconvert_exporter": "python",
   "pygments_lexer": "ipython3",
   "version": "3.8.2"
  }
 },
 "nbformat": 4,
 "nbformat_minor": 4
}
